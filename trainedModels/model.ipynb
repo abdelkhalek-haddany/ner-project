{
 "cells": [
  {
   "cell_type": "code",
   "execution_count": null,
   "id": "a191f7f2",
   "metadata": {},
   "outputs": [],
   "source": [
    "from sklearn import svm\n",
    "from sklearn.model_selection import train_test_split\n",
    "import pandas as pd\n",
    "\n",
    "\n",
    "# Load data from CSV file\n",
    "data = pd.read_csv('cancer_patient_data_sets.csv')\n",
    "# Extract features and labels\n",
    "X = data.drop('Level', axis=1)\n",
    "Y = data['Level'] # labels\n",
    "\n",
    "# Split data into training and test sets\n",
    "#X_train, X_test, y_train, y_test = train_test_split(X, y, test_size=0.2, random_state=42)\n",
    "\n",
    "# Create an SVM model with a linear kernel\n",
    "clf = svm.SVC(kernel='linear')\n",
    "\n",
    "# Train the model on the training data\n",
    "clf.fit(X, Y)\n",
    "\n",
    "#Tester Le Model\n",
    "data_test = pd.read_csv('cancer_patient_data_sets_test.csv')\n",
    "# Extract features and labels\n",
    "X_test = data_test.drop('Level', axis=1)\n",
    "y_test = data_test['Level']\n",
    "predection = clf.predict(X_test)\n",
    "accuracy = clf.score(X_test, y_test)\n",
    "print(\"Accuracy: \", accuracy)\n",
    "\n"
   ]
  }
 ],
 "metadata": {
  "kernelspec": {
   "display_name": "Python 3 (ipykernel)",
   "language": "python",
   "name": "python3"
  },
  "language_info": {
   "codemirror_mode": {
    "name": "ipython",
    "version": 3
   },
   "file_extension": ".py",
   "mimetype": "text/x-python",
   "name": "python",
   "nbconvert_exporter": "python",
   "pygments_lexer": "ipython3",
   "version": "3.9.13"
  }
 },
 "nbformat": 4,
 "nbformat_minor": 5
}
